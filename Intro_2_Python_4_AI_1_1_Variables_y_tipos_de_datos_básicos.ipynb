{
  "nbformat": 4,
  "nbformat_minor": 0,
  "metadata": {
    "kernelspec": {
      "display_name": "Python 3",
      "language": "python",
      "name": "python3"
    },
    "language_info": {
      "codemirror_mode": {
        "name": "ipython",
        "version": 3
      },
      "file_extension": ".py",
      "mimetype": "text/x-python",
      "name": "python",
      "nbconvert_exporter": "python",
      "pygments_lexer": "ipython3",
      "version": "3.7.6"
    },
    "colab": {
      "name": "Intro 2 Python 4 AI - 1.1.Variables y tipos de datos básicos.ipynb",
      "provenance": [],
      "collapsed_sections": [],
      "include_colab_link": true
    }
  },
  "cells": [
    {
      "cell_type": "markdown",
      "metadata": {
        "id": "view-in-github",
        "colab_type": "text"
      },
      "source": [
        "<a href=\"https://colab.research.google.com/github/ana-mp26/Python/blob/main/Intro_2_Python_4_AI_1_1_Variables_y_tipos_de_datos_ba%CC%81sicos.ipynb\" target=\"_parent\"><img src=\"https://colab.research.google.com/assets/colab-badge.svg\" alt=\"Open In Colab\"/></a>"
      ]
    },
    {
      "cell_type": "markdown",
      "metadata": {
        "id": "FGnSzxJQxt2n"
      },
      "source": [
        "# Intro 2 Python "
      ]
    },
    {
      "cell_type": "markdown",
      "metadata": {
        "id": "O5GhrY_PezIz"
      },
      "source": [
        "![](https://www.saturdays.ai/images/logo.png)"
      ]
    },
    {
      "cell_type": "markdown",
      "metadata": {
        "id": "GIVCemRmxt2n"
      },
      "source": [
        "## Variables e impresión por pantalla"
      ]
    },
    {
      "cell_type": "markdown",
      "metadata": {
        "id": "bpBIU-hCxt2n"
      },
      "source": [
        "Una variable es un identificador que tiene asociado un espacio en memoria y que permite almacenar distintos tipos de datos. En el caso de Python, estas variables no están identificadas como tal hasta que no se les asigna un valor y por lo tanto un espacio en memoria"
      ]
    },
    {
      "cell_type": "code",
      "metadata": {
        "id": "_AOtjU0bxt2n",
        "outputId": "36b7bd63-fb4e-4b85-bb72-042dbf51fa30"
      },
      "source": [
        "a"
      ],
      "execution_count": null,
      "outputs": [
        {
          "output_type": "error",
          "ename": "NameError",
          "evalue": "name 'a' is not defined",
          "traceback": [
            "\u001b[1;31m---------------------------------------------------------------------------\u001b[0m",
            "\u001b[1;31mNameError\u001b[0m                                 Traceback (most recent call last)",
            "\u001b[1;32m<ipython-input-1-3f786850e387>\u001b[0m in \u001b[0;36m<module>\u001b[1;34m\u001b[0m\n\u001b[1;32m----> 1\u001b[1;33m \u001b[0ma\u001b[0m\u001b[1;33m\u001b[0m\u001b[1;33m\u001b[0m\u001b[0m\n\u001b[0m",
            "\u001b[1;31mNameError\u001b[0m: name 'a' is not defined"
          ]
        }
      ]
    },
    {
      "cell_type": "code",
      "metadata": {
        "id": "P-CvQpKdxt2n"
      },
      "source": [
        "a = 5"
      ],
      "execution_count": null,
      "outputs": []
    },
    {
      "cell_type": "markdown",
      "metadata": {
        "id": "nvDO6MTJxt2n"
      },
      "source": [
        "Para imprimir un valor por pantalla, se puede poner ese valor como la última línea que se ejecute de una casilla de Jupyter o se puede imprimir por pantalla. Para imprimir -> print()"
      ]
    },
    {
      "cell_type": "code",
      "metadata": {
        "id": "8mVIzHkRxt2o",
        "outputId": "1b39de1c-4f56-4442-c7c3-1474c31806d2"
      },
      "source": [
        "print(a)"
      ],
      "execution_count": null,
      "outputs": [
        {
          "output_type": "stream",
          "text": [
            "5\n"
          ],
          "name": "stdout"
        }
      ]
    },
    {
      "cell_type": "code",
      "metadata": {
        "id": "Zd0hG_vixt2o",
        "outputId": "c73bfc73-a56f-498d-a476-ce0de5bf91c7"
      },
      "source": [
        "print(\"Hola mundo!\")"
      ],
      "execution_count": null,
      "outputs": [
        {
          "output_type": "stream",
          "text": [
            "Hola mundo!\n"
          ],
          "name": "stdout"
        }
      ]
    },
    {
      "cell_type": "markdown",
      "metadata": {
        "id": "vdHGbR8Dxt2o"
      },
      "source": [
        "### Tipos de datos\n",
        "\n",
        "1. Numeros\n",
        "    * enteros `int`\n",
        "    * coma flotante `float`\n",
        "2. Texto `str`\n",
        "3. Booleanos `bool`"
      ]
    },
    {
      "cell_type": "code",
      "metadata": {
        "id": "YcpuLvvext2o"
      },
      "source": [
        "# Comentario de texto en Python, esto no se ejecuta"
      ],
      "execution_count": null,
      "outputs": []
    },
    {
      "cell_type": "code",
      "metadata": {
        "id": "D2gTXaGuxt2o"
      },
      "source": [
        "a = 5\n",
        "b = 4.0\n",
        "c = \"Hola\"\n",
        "d = True"
      ],
      "execution_count": null,
      "outputs": []
    },
    {
      "cell_type": "code",
      "metadata": {
        "id": "Ez2u0KAfxt2o",
        "outputId": "0b296b2e-e2a5-4877-a286-ea7c9870327d"
      },
      "source": [
        "# Se pueden imprimir varias cosas en un solo \"print\"\n",
        "print(a,type(a))\n",
        "print(b, type(b))\n",
        "print(c, type(c))\n",
        "print(d, type(d))"
      ],
      "execution_count": null,
      "outputs": [
        {
          "output_type": "stream",
          "text": [
            "5 <class 'int'>\n",
            "4.0 <class 'float'>\n",
            "Hola <class 'str'>\n",
            "True <class 'bool'>\n"
          ],
          "name": "stdout"
        }
      ]
    },
    {
      "cell_type": "markdown",
      "metadata": {
        "id": "0FV08TeXxt2o"
      },
      "source": [
        "### Entrada para el usuario\n",
        "\n",
        "Para poder interativamente pedir datos al usuario, se puede utilizar el comando `input(mensaje)`"
      ]
    },
    {
      "cell_type": "code",
      "metadata": {
        "id": "2LtP7OaHxt2o",
        "outputId": "d810d509-32e3-4493-d27b-97afa512e11a"
      },
      "source": [
        "x = input('¿Cómo te llamas?:')\n",
        "print('Hola, ' + x) "
      ],
      "execution_count": null,
      "outputs": [
        {
          "output_type": "stream",
          "text": [
            "¿Cómo te llamas?:David\n",
            "Hola, David\n"
          ],
          "name": "stdout"
        }
      ]
    },
    {
      "cell_type": "code",
      "metadata": {
        "id": "8A4o5Dlzxt2o",
        "outputId": "39c3ccde-2fa8-46b5-bc46-9d3b6fb735e5"
      },
      "source": [
        "x = input('Escribe un numero:')\n",
        "print('Tu numero es: ' + x) \n",
        "print(type(x))"
      ],
      "execution_count": null,
      "outputs": [
        {
          "output_type": "stream",
          "text": [
            "Escribe un numero:1484345\n",
            "Tu numero es: 1484345\n",
            "<class 'str'>\n"
          ],
          "name": "stdout"
        }
      ]
    },
    {
      "cell_type": "code",
      "metadata": {
        "id": "N6RTLYFHxt2p"
      },
      "source": [
        ""
      ],
      "execution_count": null,
      "outputs": []
    }
  ]
}