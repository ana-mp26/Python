{
  "cells": [
    {
      "cell_type": "markdown",
      "source": [
        "# Visualization de Datos con Python\r\n",
        "\r\n",
        "Bienvenidos! Vamos utilizar o [Dataset de abacates 2019](https://www.kaggle.com/marcyanderson/avocados-2019) da Kaggle! Basta seguir e completar as tarefas descritas em negrito abaixo. As tarefas tornar-se-ão cada vez mais difíceis à medida que for avançando. \r\n",
        "- Explicar que es una plantilla;"
      ],
      "metadata": {
        "id": "I-d_C-yHMXqk"
      }
    },
    {
      "cell_type": "markdown",
      "source": [
        "** Import pandas as pd.**"
      ],
      "metadata": {
        "id": "zEiie3F_MXqk"
      }
    },
    {
      "cell_type": "code",
      "execution_count": 1,
      "source": [
        "import pandas as pd"
      ],
      "outputs": [],
      "metadata": {
        "id": "BRtWqUJ4MXql"
      }
    },
    {
      "cell_type": "markdown",
      "source": [
        "** ** Download the dataset from https://www.kaggle.com/marcyanderson/avocados-2019 and read the 2019-plu-total-hab-data.csv as a dataframe called avocados.**"
      ],
      "metadata": {
        "id": "phB7AqHEMXql"
      }
    },
    {
      "cell_type": "code",
      "execution_count": 2,
      "source": [
        "#Load the dataset, parse_dates set the date column into datetime type\r\n",
        "avocados = pd.read_csv('./2019-plu-total-hab-data.csv', parse_dates = [\"Current_Year_Week_Ending\"])"
      ],
      "outputs": [],
      "metadata": {
        "id": "z7zxuImgMXql",
        "outputId": "4fe38431-e01b-49b3-cead-0eb3095ed6fe"
      }
    },
    {
      "cell_type": "markdown",
      "source": [
        "** Check the head of the DataFrame. **"
      ],
      "metadata": {
        "id": "vICqFH1VMXql"
      }
    },
    {
      "cell_type": "code",
      "execution_count": 3,
      "source": [
        "avocados.head()"
      ],
      "outputs": [
        {
          "output_type": "execute_result",
          "data": {
            "text/plain": [
              "              Geography Timeframe Current_Year_Week_Ending          Type  \\\n",
              "0            Total U.S.    Weekly               2019-01-07  Conventional   \n",
              "1                Albany    Weekly               2019-01-07  Conventional   \n",
              "2               Atlanta    Weekly               2019-01-07  Conventional   \n",
              "3  Baltimore/Washington    Weekly               2019-01-07  Conventional   \n",
              "4                 Boise    Weekly               2019-01-07  Conventional   \n",
              "\n",
              "   ASP_Current_Year  Total_Bulk_and_Bags_Units   4046_Units   4225_Units  \\\n",
              "0              1.02                44749707.48  14377053.08  11890232.90   \n",
              "1              1.07                  129222.29      3789.30    112635.18   \n",
              "2              0.92                  828971.15    388574.98     38902.85   \n",
              "3              1.31                  925391.38    102652.85    530128.43   \n",
              "4              1.23                  108261.98     43723.19      7085.86   \n",
              "\n",
              "   4770_Units  TotalBagged_Units  SmlBagged_Units  LrgBagged_Units  \\\n",
              "0   893721.10        17588700.40      12829493.40       4617813.55   \n",
              "1      158.00           12639.81          8877.95          3761.86   \n",
              "2     3482.04          398011.28        299475.26         98477.41   \n",
              "3     8212.94          284397.16        263150.78         21233.05   \n",
              "4    14435.46           43017.47         23932.54         19049.95   \n",
              "\n",
              "   X-LrgBagged_Units  \n",
              "0          141393.45  \n",
              "1               0.00  \n",
              "2              58.61  \n",
              "3              13.33  \n",
              "4              34.98  "
            ],
            "text/html": [
              "<div>\n",
              "<style scoped>\n",
              "    .dataframe tbody tr th:only-of-type {\n",
              "        vertical-align: middle;\n",
              "    }\n",
              "\n",
              "    .dataframe tbody tr th {\n",
              "        vertical-align: top;\n",
              "    }\n",
              "\n",
              "    .dataframe thead th {\n",
              "        text-align: right;\n",
              "    }\n",
              "</style>\n",
              "<table border=\"1\" class=\"dataframe\">\n",
              "  <thead>\n",
              "    <tr style=\"text-align: right;\">\n",
              "      <th></th>\n",
              "      <th>Geography</th>\n",
              "      <th>Timeframe</th>\n",
              "      <th>Current_Year_Week_Ending</th>\n",
              "      <th>Type</th>\n",
              "      <th>ASP_Current_Year</th>\n",
              "      <th>Total_Bulk_and_Bags_Units</th>\n",
              "      <th>4046_Units</th>\n",
              "      <th>4225_Units</th>\n",
              "      <th>4770_Units</th>\n",
              "      <th>TotalBagged_Units</th>\n",
              "      <th>SmlBagged_Units</th>\n",
              "      <th>LrgBagged_Units</th>\n",
              "      <th>X-LrgBagged_Units</th>\n",
              "    </tr>\n",
              "  </thead>\n",
              "  <tbody>\n",
              "    <tr>\n",
              "      <th>0</th>\n",
              "      <td>Total U.S.</td>\n",
              "      <td>Weekly</td>\n",
              "      <td>2019-01-07</td>\n",
              "      <td>Conventional</td>\n",
              "      <td>1.02</td>\n",
              "      <td>44749707.48</td>\n",
              "      <td>14377053.08</td>\n",
              "      <td>11890232.90</td>\n",
              "      <td>893721.10</td>\n",
              "      <td>17588700.40</td>\n",
              "      <td>12829493.40</td>\n",
              "      <td>4617813.55</td>\n",
              "      <td>141393.45</td>\n",
              "    </tr>\n",
              "    <tr>\n",
              "      <th>1</th>\n",
              "      <td>Albany</td>\n",
              "      <td>Weekly</td>\n",
              "      <td>2019-01-07</td>\n",
              "      <td>Conventional</td>\n",
              "      <td>1.07</td>\n",
              "      <td>129222.29</td>\n",
              "      <td>3789.30</td>\n",
              "      <td>112635.18</td>\n",
              "      <td>158.00</td>\n",
              "      <td>12639.81</td>\n",
              "      <td>8877.95</td>\n",
              "      <td>3761.86</td>\n",
              "      <td>0.00</td>\n",
              "    </tr>\n",
              "    <tr>\n",
              "      <th>2</th>\n",
              "      <td>Atlanta</td>\n",
              "      <td>Weekly</td>\n",
              "      <td>2019-01-07</td>\n",
              "      <td>Conventional</td>\n",
              "      <td>0.92</td>\n",
              "      <td>828971.15</td>\n",
              "      <td>388574.98</td>\n",
              "      <td>38902.85</td>\n",
              "      <td>3482.04</td>\n",
              "      <td>398011.28</td>\n",
              "      <td>299475.26</td>\n",
              "      <td>98477.41</td>\n",
              "      <td>58.61</td>\n",
              "    </tr>\n",
              "    <tr>\n",
              "      <th>3</th>\n",
              "      <td>Baltimore/Washington</td>\n",
              "      <td>Weekly</td>\n",
              "      <td>2019-01-07</td>\n",
              "      <td>Conventional</td>\n",
              "      <td>1.31</td>\n",
              "      <td>925391.38</td>\n",
              "      <td>102652.85</td>\n",
              "      <td>530128.43</td>\n",
              "      <td>8212.94</td>\n",
              "      <td>284397.16</td>\n",
              "      <td>263150.78</td>\n",
              "      <td>21233.05</td>\n",
              "      <td>13.33</td>\n",
              "    </tr>\n",
              "    <tr>\n",
              "      <th>4</th>\n",
              "      <td>Boise</td>\n",
              "      <td>Weekly</td>\n",
              "      <td>2019-01-07</td>\n",
              "      <td>Conventional</td>\n",
              "      <td>1.23</td>\n",
              "      <td>108261.98</td>\n",
              "      <td>43723.19</td>\n",
              "      <td>7085.86</td>\n",
              "      <td>14435.46</td>\n",
              "      <td>43017.47</td>\n",
              "      <td>23932.54</td>\n",
              "      <td>19049.95</td>\n",
              "      <td>34.98</td>\n",
              "    </tr>\n",
              "  </tbody>\n",
              "</table>\n",
              "</div>"
            ]
          },
          "metadata": {},
          "execution_count": 3
        }
      ],
      "metadata": {
        "id": "fuCtN1EKMXql"
      }
    },
    {
      "cell_type": "markdown",
      "source": [],
      "metadata": {
        "id": "KcFSNY7YkFlj"
      }
    },
    {
      "cell_type": "markdown",
      "source": [
        "# Create your first plot "
      ],
      "metadata": {
        "id": "l7_Bo_5ykFlk"
      }
    },
    {
      "cell_type": "code",
      "execution_count": 8,
      "source": [
        "# Import the matplotlib.pyplot submodule and name it plt\r\n",
        "import  matplotlib.pyplot as plt\r\n",
        "\r\n",
        "# Create a Figure and an Axes with plt.subplots\r\n",
        "fig, ax = plt.subplots()\r\n",
        "\r\n",
        "# Plot the Total_Bulk_and_Bags_Units according to Type\r\n",
        "avocados['Type'].value_counts().sort_index().plot.bar(x=avocados['Total_Bulk_and_Bags_Units'], y='Number of Occurrences')\r\n",
        "\r\n",
        "# Call the show function\r\n",
        "plt.show()\r\n"
      ],
      "outputs": [
        {
          "output_type": "display_data",
          "data": {
            "text/plain": [
              "<Figure size 432x288 with 1 Axes>"
            ],
            "image/png": "[encoded data removed]"
          },
          "metadata": {
            "needs_background": "light"
          }
        }
      ],
      "metadata": {
        "id": "1SphLextkFlk"
      }
    },
    {
      "cell_type": "markdown",
      "source": [
        "**How many avocados were sold of each size?**"
      ],
      "metadata": {
        "id": "4Kq-pvGJMXqn"
      }
    },
    {
      "cell_type": "code",
      "execution_count": 9,
      "source": [
        "#Import Matplot lib\r\n",
        "import matplotlib.pyplot as plt\r\n",
        "\r\n",
        "# Create a Figure and an Axes with plt.subplots\r\n",
        "fig, ax = plt.subplots()\r\n",
        "\r\n",
        "#Hint: Use .iloc and the respective indexes to select the appropriate columns and sum to get the total amount\r\n",
        "avocados_sold_by_size = avocados.iloc[:,10:13].sum()\r\n",
        "#See the results\r\n",
        "print(avocados_sold_by_size)\r\n",
        "\r\n",
        "# Create a bar plot of the number of avocados sold by size\r\n",
        "avocados_sold_by_size.plot(kind=\"bar\")\r\n",
        "\r\n",
        "# Show the plot\r\n",
        "plt.show()"
      ],
      "outputs": [
        {
          "output_type": "stream",
          "name": "stdout",
          "text": [
            "SmlBagged_Units      1.646993e+09\n",
            "LrgBagged_Units      9.184784e+08\n",
            "X-LrgBagged_Units    6.642768e+07\n",
            "dtype: float64\n"
          ]
        },
        {
          "output_type": "display_data",
          "data": {
            "text/plain": [
              "<Figure size 432x288 with 1 Axes>"
            ],
            "image/png": "[encoded data removed]"
          },
          "metadata": {
            "needs_background": "light"
          }
        }
      ],
      "metadata": {
        "id": "z6Kd3YcVkFll"
      }
    },
    {
      "cell_type": "markdown",
      "source": [
        "#### Take some conclusions on what you just saw:\n",
        "....."
      ],
      "metadata": {
        "id": "stesOEPDkFll"
      }
    },
    {
      "cell_type": "markdown",
      "source": [
        "Los aguacates más vendidos son los que se venden en bolsas pequeñas"
      ],
      "metadata": {}
    },
    {
      "cell_type": "markdown",
      "source": [
        "Difícil: Trazar la media semanal de ventas de SmlBagged_Units a lo largo de 2019, establecer una etiqueta en los ejes y y x y un título."
      ],
      "metadata": {
        "id": "MtjOuwm-kFll"
      }
    },
    {
      "cell_type": "code",
      "execution_count": 10,
      "source": [
        "#Import Matplot lib\r\n",
        "import matplotlib.pyplot as plt\r\n",
        "#Import numpy as np\r\n",
        "import numpy as np\r\n",
        "# Create a Figure and an Axes with plt.subplots\r\n",
        "# You can set diferrent dimensions for your representation (width, height)\r\n",
        "fig, ax = plt.subplots(figsize=(10, 5))\r\n",
        "\r\n",
        "avocados_by_week = avocados.groupby('Current_Year_Week_Ending').agg(np.mean)\r\n",
        "#weeks = avocados_by_week.loc['Current_Year_Week_Ending']\r\n",
        "small_units_sold_weekly = avocados_by_week['SmlBagged_Units']\r\n",
        "# Create a line plot of the number of avocados sold by size\r\n",
        "small_units_sold_weekly.plot(kind= \"line\")\r\n",
        "# Set the x-axis label\r\n",
        "ax.set_xlabel('Time')\r\n",
        "\r\n",
        "# Set the y-axis label\r\n",
        "ax.set_ylabel('Small bagged units')\r\n",
        "\r\n",
        "# Set the title \r\n",
        "ax.set_title('Average Weekly Small bagged units sold in 2019')\r\n",
        "\r\n",
        "#Show the plot\r\n",
        "plt.show()"
      ],
      "outputs": [
        {
          "output_type": "display_data",
          "data": {
            "text/plain": [
              "<Figure size 720x360 with 1 Axes>"
            ],
            "image/png": "[encoded data removed]"
          },
          "metadata": {
            "needs_background": "light"
          }
        }
      ],
      "metadata": {
        "id": "2CGzV8CvkFlm",
        "outputId": "6328ff69-6f7a-4e03-c836-631b28e2d57f"
      }
    },
    {
      "cell_type": "markdown",
      "source": [
        "#### Take some conclusions on what you just saw:\n",
        "....."
      ],
      "metadata": {
        "id": "LFHOmBzZkFlo"
      }
    },
    {
      "cell_type": "markdown",
      "source": [
        "Se compran más aguacates en Febrero"
      ],
      "metadata": {}
    },
    {
      "cell_type": "code",
      "execution_count": null,
      "source": [],
      "outputs": [],
      "metadata": {
        "id": "oAtwmEZpkFlp"
      }
    },
    {
      "cell_type": "markdown",
      "source": [],
      "metadata": {
        "id": "YLOzJIRikFlp"
      }
    },
    {
      "cell_type": "markdown",
      "source": [
        "# Great Job!"
      ],
      "metadata": {
        "id": "NIJ1pyDGMXqt"
      }
    }
  ],
  "metadata": {
    "colab": {
      "collapsed_sections": [],
      "name": "Data_viz_assignment.ipynb",
      "provenance": []
    },
    "interpreter": {
      "hash": "7914496b9297445c865efa6daeba476c4d2c0809e0cf02951273972f5ac8083d"
    },
    "kernelspec": {
      "name": "python3",
      "display_name": "Python 3.9.6 64-bit (windows store)"
    },
    "language_info": {
      "codemirror_mode": {
        "name": "ipython",
        "version": 3
      },
      "file_extension": ".py",
      "mimetype": "text/x-python",
      "name": "python",
      "nbconvert_exporter": "python",
      "pygments_lexer": "ipython3",
      "version": "3.9.6"
    }
  },
  "nbformat": 4,
  "nbformat_minor": 2
}